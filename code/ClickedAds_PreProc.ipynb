{
 "cells": [
  {
   "cell_type": "code",
   "execution_count": 1,
   "id": "2ba1f129-4df4-4ad9-8b87-50d25841c757",
   "metadata": {},
   "outputs": [],
   "source": [
    "import numpy as np\n",
    "import pandas as pd"
   ]
  },
  {
   "cell_type": "code",
   "execution_count": 2,
   "id": "993a3d47-e74e-4f5c-9bd0-0c0d85ecb643",
   "metadata": {},
   "outputs": [],
   "source": [
    "df = pd.read_csv('Clicked Ads Dataset.csv')"
   ]
  },
  {
   "cell_type": "code",
   "execution_count": 3,
   "id": "e0295e3c-496f-4c42-8248-26d5110827d8",
   "metadata": {},
   "outputs": [],
   "source": [
    "# Display all columns\n",
    "pd.set_option('display.max_columns', None)"
   ]
  },
  {
   "cell_type": "code",
   "execution_count": 4,
   "id": "05a60d12-6c32-4dae-b5f3-01531ce5a98d",
   "metadata": {},
   "outputs": [
    {
     "name": "stdout",
     "output_type": "stream",
     "text": [
      "--- First 5 rows ---\n",
      "   Unnamed: 0  Daily Time Spent on Site  Age  Area Income  \\\n",
      "0           0                     68.95   35  432837300.0   \n",
      "1           1                     80.23   31  479092950.0   \n",
      "2           2                     69.47   26  418501580.0   \n",
      "3           3                     74.15   29  383643260.0   \n",
      "4           4                     68.37   35  517229930.0   \n",
      "\n",
      "   Daily Internet Usage       Male        Timestamp Clicked on Ad  \\\n",
      "0                256.09  Perempuan   3/27/2016 0:53            No   \n",
      "1                193.77  Laki-Laki    4/4/2016 1:39            No   \n",
      "2                236.50  Perempuan  3/13/2016 20:35            No   \n",
      "3                245.89  Laki-Laki   1/10/2016 2:31            No   \n",
      "4                225.58  Perempuan    6/3/2016 3:36            No   \n",
      "\n",
      "            city                       province    category  \n",
      "0  Jakarta Timur  Daerah Khusus Ibukota Jakarta   Furniture  \n",
      "1       Denpasar                           Bali        Food  \n",
      "2       Surabaya                     Jawa Timur  Electronic  \n",
      "3          Batam                 Kepulauan Riau       House  \n",
      "4          Medan                  Sumatra Utara     Finance  \n",
      "\n",
      "--- Dataset Info ---\n",
      "<class 'pandas.core.frame.DataFrame'>\n",
      "RangeIndex: 1000 entries, 0 to 999\n",
      "Data columns (total 11 columns):\n",
      " #   Column                    Non-Null Count  Dtype  \n",
      "---  ------                    --------------  -----  \n",
      " 0   Unnamed: 0                1000 non-null   int64  \n",
      " 1   Daily Time Spent on Site  987 non-null    float64\n",
      " 2   Age                       1000 non-null   int64  \n",
      " 3   Area Income               987 non-null    float64\n",
      " 4   Daily Internet Usage      989 non-null    float64\n",
      " 5   Male                      997 non-null    object \n",
      " 6   Timestamp                 1000 non-null   object \n",
      " 7   Clicked on Ad             1000 non-null   object \n",
      " 8   city                      1000 non-null   object \n",
      " 9   province                  1000 non-null   object \n",
      " 10  category                  1000 non-null   object \n",
      "dtypes: float64(3), int64(2), object(6)\n",
      "memory usage: 86.1+ KB\n",
      "\n",
      "--- Summary Statistics ---\n",
      "        Unnamed: 0  Daily Time Spent on Site          Age   Area Income  \\\n",
      "count  1000.000000                987.000000  1000.000000  9.870000e+02   \n",
      "mean    499.500000                 64.929524    36.009000  3.848647e+08   \n",
      "std     288.819436                 15.844699     8.785562  9.407999e+07   \n",
      "min       0.000000                 32.600000    19.000000  9.797550e+07   \n",
      "25%     249.750000                 51.270000    29.000000  3.286330e+08   \n",
      "50%     499.500000                 68.110000    35.000000  3.990683e+08   \n",
      "75%     749.250000                 78.460000    42.000000  4.583554e+08   \n",
      "max     999.000000                 91.430000    61.000000  5.563936e+08   \n",
      "\n",
      "       Daily Internet Usage  \n",
      "count            989.000000  \n",
      "mean             179.863620  \n",
      "std               43.870142  \n",
      "min              104.780000  \n",
      "25%              138.710000  \n",
      "50%              182.650000  \n",
      "75%              218.790000  \n",
      "max              267.010000  \n",
      "\n",
      "--- Missing Values ---\n",
      "Unnamed: 0                   0\n",
      "Daily Time Spent on Site    13\n",
      "Age                          0\n",
      "Area Income                 13\n",
      "Daily Internet Usage        11\n",
      "Male                         3\n",
      "Timestamp                    0\n",
      "Clicked on Ad                0\n",
      "city                         0\n",
      "province                     0\n",
      "category                     0\n",
      "dtype: int64\n",
      "\n",
      "--- Duplicated Rows ---\n",
      "0\n"
     ]
    }
   ],
   "source": [
    "# Basic investigation\n",
    "print(\"--- First 5 rows ---\")\n",
    "print(df.head())\n",
    "\n",
    "print(\"\\n--- Dataset Info ---\")\n",
    "df.info()\n",
    "\n",
    "print(\"\\n--- Summary Statistics ---\")\n",
    "print(df.describe())\n",
    "\n",
    "print(\"\\n--- Missing Values ---\")\n",
    "print(df.isnull().sum())\n",
    "\n",
    "print(\"\\n--- Duplicated Rows ---\")\n",
    "print(df.duplicated().sum())"
   ]
  },
  {
   "cell_type": "code",
   "execution_count": 5,
   "id": "375a92fa-8603-4df7-bc02-ce2c41cbe8ae",
   "metadata": {},
   "outputs": [
    {
     "name": "stdout",
     "output_type": "stream",
     "text": [
      "\n",
      "Distinct Values for Each Column:\n",
      "Unnamed: 0: [ 0  1  2  3  4  5  6  7  8  9 10 11 12 13 14 15 16 17 18 19]... (Total: 1000)\n",
      "Daily Time Spent on Site: [68.95 80.23 69.47 74.15 68.37 59.99 88.91 66.   74.53 69.88 47.64 83.07\n",
      " 69.57 79.52 42.95 63.45 55.39 82.03 54.7  74.58]... (Total: 891)\n",
      "Age: [35 31 26 29 23 33 48 30 20 49 37 24 41 36 40 52 28 34 22 57]... (Total: 43)\n",
      "Area Income: [4.3283730e+08 4.7909295e+08 4.1850158e+08 3.8364326e+08 5.1722993e+08\n",
      " 4.1833092e+08 3.7696995e+08 1.7215331e+08 4.8203400e+08 3.8949624e+08\n",
      " 3.1942757e+08 4.3743707e+08 3.6145844e+08 3.6217741e+08 2.1683200e+08\n",
      " 3.6527561e+08 1.6755802e+08 5.0057756e+08 2.1761278e+08 1.6675204e+08]... (Total: 988)\n",
      "Daily Internet Usage: [256.09 193.77 236.5  245.89 225.58 226.74 208.36 131.76 221.51 183.82\n",
      " 122.02 230.87 113.12 214.23 143.56 140.64 129.41 187.53    nan 135.51]... (Total: 956)\n",
      "Male: ['Perempuan' 'Laki-Laki' nan] (Total: 3)\n",
      "Timestamp: ['3/27/2016 0:53' '4/4/2016 1:39' '3/13/2016 20:35' '1/10/2016 2:31'\n",
      " '6/3/2016 3:36' '5/19/2016 14:30' '1/28/2016 20:59' '3/7/2016 1:40'\n",
      " '4/18/2016 9:33' '7/11/2016 1:42' '3/16/2016 20:19' '5/8/2016 8:10'\n",
      " '6/3/2016 1:14' '4/20/2016 21:49' '3/24/2016 9:31' '3/9/2016 3:41'\n",
      " '1/30/2016 19:20' '5/2/2016 7:00' '2/13/2016 7:53' '2/27/2016 4:43']... (Total: 997)\n",
      "Clicked on Ad: ['No' 'Yes'] (Total: 2)\n",
      "city: ['Jakarta Timur' 'Denpasar' 'Surabaya' 'Batam' 'Medan' 'Jakarta Barat'\n",
      " 'Bandung' 'Bandar Lampung' 'Jakarta Pusat' 'Depok' 'Serang' 'Padang'\n",
      " 'Semarang' 'Makassar' 'Malang' 'Jakarta Utara' 'Pontianak'\n",
      " 'Jakarta Selatan' 'Tasikmalaya' 'Surakarta']... (Total: 30)\n",
      "province: ['Daerah Khusus Ibukota Jakarta' 'Bali' 'Jawa Timur' 'Kepulauan Riau'\n",
      " 'Sumatra Utara' 'Jawa Barat' 'Lampung' 'Banten' 'Sumatra Barat'\n",
      " 'Jawa Tengah' 'Sulawesi Selatan' 'Kalimantan Barat' 'Kalimantan Selatan'\n",
      " 'Sumatra Selatan' 'Kalimantan Timur' 'Riau'] (Total: 16)\n",
      "category: ['Furniture' 'Food' 'Electronic' 'House' 'Finance' 'Travel' 'Health'\n",
      " 'Bank' 'Fashion' 'Otomotif'] (Total: 10)\n"
     ]
    }
   ],
   "source": [
    "# Print distinct values\n",
    "print(\"\\nDistinct Values for Each Column:\")\n",
    "for col in df.columns:\n",
    "    unique_values = df[col].unique()\n",
    "    print(f\"{col}: {unique_values[:20]}{'...' if len(unique_values) > 20 else ''} (Total: {len(unique_values)})\")"
   ]
  },
  {
   "cell_type": "code",
   "execution_count": 6,
   "id": "c33b502d-6664-467c-9fdb-00a949b4b5b2",
   "metadata": {},
   "outputs": [
    {
     "name": "stdout",
     "output_type": "stream",
     "text": [
      "Number of Missing Values:\n",
      " Unnamed: 0                  0\n",
      "Daily Time Spent on Site    0\n",
      "Age                         0\n",
      "Area Income                 0\n",
      "Daily Internet Usage        0\n",
      "Male                        0\n",
      "Timestamp                   0\n",
      "Clicked on Ad               0\n",
      "city                        0\n",
      "province                    0\n",
      "category                    0\n",
      "dtype: int64\n"
     ]
    },
    {
     "name": "stderr",
     "output_type": "stream",
     "text": [
      "C:\\Users\\brama\\AppData\\Local\\Temp\\ipykernel_10624\\422614289.py:5: FutureWarning: A value is trying to be set on a copy of a DataFrame or Series through chained assignment using an inplace method.\n",
      "The behavior will change in pandas 3.0. This inplace method will never work because the intermediate object on which we are setting values always behaves as a copy.\n",
      "\n",
      "For example, when doing 'df[col].method(value, inplace=True)', try using 'df.method({col: value}, inplace=True)' or df[col] = df[col].method(value) instead, to perform the operation inplace on the original object.\n",
      "\n",
      "\n",
      "  df[col].fillna(df[col].median(), inplace=True)\n",
      "C:\\Users\\brama\\AppData\\Local\\Temp\\ipykernel_10624\\422614289.py:7: FutureWarning: A value is trying to be set on a copy of a DataFrame or Series through chained assignment using an inplace method.\n",
      "The behavior will change in pandas 3.0. This inplace method will never work because the intermediate object on which we are setting values always behaves as a copy.\n",
      "\n",
      "For example, when doing 'df[col].method(value, inplace=True)', try using 'df.method({col: value}, inplace=True)' or df[col] = df[col].method(value) instead, to perform the operation inplace on the original object.\n",
      "\n",
      "\n",
      "  df[col].fillna(df[col].mode()[0], inplace=True)\n"
     ]
    }
   ],
   "source": [
    "# Handling Missing Values\n",
    "# We will fill numerical values with the median and categorical values with the mode\n",
    "for col in df.columns:\n",
    "    if df[col].dtype == 'float64' or df[col].dtype == 'int64':\n",
    "        df[col].fillna(df[col].median(), inplace=True)\n",
    "    else:\n",
    "        df[col].fillna(df[col].mode()[0], inplace=True)\n",
    "\n",
    "# Checking Missing Values\n",
    "print(\"Number of Missing Values:\\n\", df.isnull().sum())"
   ]
  },
  {
   "cell_type": "code",
   "execution_count": 7,
   "id": "e054d2b9-0fd6-4be9-b9d7-11be76f0f428",
   "metadata": {},
   "outputs": [],
   "source": [
    "from sklearn.preprocessing import LabelEncoder\n",
    "\n",
    "# Label Encoding for Binary Columns\n",
    "le = LabelEncoder()\n",
    "df['Male'] = le.fit_transform(df['Male'])\n",
    "df['Clicked on Ad'] = le.fit_transform(df['Clicked on Ad'])\n",
    "\n",
    "# One-Hot Encoding for Nominal Categorical Columns\n",
    "df = pd.get_dummies(df, columns=['city', 'province', 'category'], drop_first=True)"
   ]
  },
  {
   "cell_type": "code",
   "execution_count": 8,
   "id": "917b310b-e026-4109-825a-8b57b6233877",
   "metadata": {},
   "outputs": [],
   "source": [
    "# Splitting Features (X) and Target (y)\n",
    "X = df.drop('Clicked on Ad', axis=1)\n",
    "y = df['Clicked on Ad']"
   ]
  },
  {
   "cell_type": "code",
   "execution_count": 9,
   "id": "a00fed82-d380-4606-8e78-ef08016905f0",
   "metadata": {},
   "outputs": [],
   "source": [
    "# Time Feature Extraction\n",
    "df['Timestamp'] = pd.to_datetime(df['Timestamp'])\n",
    "df['Year'] = df['Timestamp'].dt.year\n",
    "df['Month'] = df['Timestamp'].dt.month\n",
    "df['Week'] = df['Timestamp'].dt.isocalendar().week\n",
    "df['Day'] = df['Timestamp'].dt.day\n",
    "\n",
    "# Dropping the 'Timestamp' Column\n",
    "df.drop('Timestamp', axis=1, inplace=True)"
   ]
  },
  {
   "cell_type": "code",
   "execution_count": 11,
   "id": "258da27c-c8ee-4a45-bb6f-818dadcef6d8",
   "metadata": {},
   "outputs": [],
   "source": [
    "# Dropping the 'Unnamed' Column\n",
    "df.drop('Unnamed: 0', axis=1, inplace=True)"
   ]
  },
  {
   "cell_type": "code",
   "execution_count": 12,
   "id": "281058ff-7429-493b-adc4-ff57ad5d196b",
   "metadata": {},
   "outputs": [
    {
     "name": "stdout",
     "output_type": "stream",
     "text": [
      "<class 'pandas.core.frame.DataFrame'>\n",
      "RangeIndex: 1000 entries, 0 to 999\n",
      "Data columns (total 63 columns):\n",
      " #   Column                                  Non-Null Count  Dtype  \n",
      "---  ------                                  --------------  -----  \n",
      " 0   Daily Time Spent on Site                1000 non-null   float64\n",
      " 1   Age                                     1000 non-null   int64  \n",
      " 2   Area Income                             1000 non-null   float64\n",
      " 3   Daily Internet Usage                    1000 non-null   float64\n",
      " 4   Male                                    1000 non-null   int32  \n",
      " 5   Clicked on Ad                           1000 non-null   int32  \n",
      " 6   city_Bandar Lampung                     1000 non-null   bool   \n",
      " 7   city_Bandung                            1000 non-null   bool   \n",
      " 8   city_Banjarmasin                        1000 non-null   bool   \n",
      " 9   city_Batam                              1000 non-null   bool   \n",
      " 10  city_Bekasi                             1000 non-null   bool   \n",
      " 11  city_Bogor                              1000 non-null   bool   \n",
      " 12  city_Cimahi                             1000 non-null   bool   \n",
      " 13  city_Denpasar                           1000 non-null   bool   \n",
      " 14  city_Depok                              1000 non-null   bool   \n",
      " 15  city_Jakarta Barat                      1000 non-null   bool   \n",
      " 16  city_Jakarta Pusat                      1000 non-null   bool   \n",
      " 17  city_Jakarta Selatan                    1000 non-null   bool   \n",
      " 18  city_Jakarta Timur                      1000 non-null   bool   \n",
      " 19  city_Jakarta Utara                      1000 non-null   bool   \n",
      " 20  city_Makassar                           1000 non-null   bool   \n",
      " 21  city_Malang                             1000 non-null   bool   \n",
      " 22  city_Medan                              1000 non-null   bool   \n",
      " 23  city_Padang                             1000 non-null   bool   \n",
      " 24  city_Pakanbaru                          1000 non-null   bool   \n",
      " 25  city_Palembang                          1000 non-null   bool   \n",
      " 26  city_Pontianak                          1000 non-null   bool   \n",
      " 27  city_Samarinda                          1000 non-null   bool   \n",
      " 28  city_Semarang                           1000 non-null   bool   \n",
      " 29  city_Serang                             1000 non-null   bool   \n",
      " 30  city_Surabaya                           1000 non-null   bool   \n",
      " 31  city_Surakarta                          1000 non-null   bool   \n",
      " 32  city_Tangerang                          1000 non-null   bool   \n",
      " 33  city_Tangerang Selatan                  1000 non-null   bool   \n",
      " 34  city_Tasikmalaya                        1000 non-null   bool   \n",
      " 35  province_Banten                         1000 non-null   bool   \n",
      " 36  province_Daerah Khusus Ibukota Jakarta  1000 non-null   bool   \n",
      " 37  province_Jawa Barat                     1000 non-null   bool   \n",
      " 38  province_Jawa Tengah                    1000 non-null   bool   \n",
      " 39  province_Jawa Timur                     1000 non-null   bool   \n",
      " 40  province_Kalimantan Barat               1000 non-null   bool   \n",
      " 41  province_Kalimantan Selatan             1000 non-null   bool   \n",
      " 42  province_Kalimantan Timur               1000 non-null   bool   \n",
      " 43  province_Kepulauan Riau                 1000 non-null   bool   \n",
      " 44  province_Lampung                        1000 non-null   bool   \n",
      " 45  province_Riau                           1000 non-null   bool   \n",
      " 46  province_Sulawesi Selatan               1000 non-null   bool   \n",
      " 47  province_Sumatra Barat                  1000 non-null   bool   \n",
      " 48  province_Sumatra Selatan                1000 non-null   bool   \n",
      " 49  province_Sumatra Utara                  1000 non-null   bool   \n",
      " 50  category_Electronic                     1000 non-null   bool   \n",
      " 51  category_Fashion                        1000 non-null   bool   \n",
      " 52  category_Finance                        1000 non-null   bool   \n",
      " 53  category_Food                           1000 non-null   bool   \n",
      " 54  category_Furniture                      1000 non-null   bool   \n",
      " 55  category_Health                         1000 non-null   bool   \n",
      " 56  category_House                          1000 non-null   bool   \n",
      " 57  category_Otomotif                       1000 non-null   bool   \n",
      " 58  category_Travel                         1000 non-null   bool   \n",
      " 59  Year                                    1000 non-null   int32  \n",
      " 60  Month                                   1000 non-null   int32  \n",
      " 61  Week                                    1000 non-null   UInt32 \n",
      " 62  Day                                     1000 non-null   int32  \n",
      "dtypes: UInt32(1), bool(53), float64(3), int32(5), int64(1)\n",
      "memory usage: 107.6 KB\n"
     ]
    }
   ],
   "source": [
    "df.info()"
   ]
  },
  {
   "cell_type": "code",
   "execution_count": null,
   "id": "ab46c03d-9690-40a4-8161-b0a31e7e2f50",
   "metadata": {},
   "outputs": [],
   "source": []
  }
 ],
 "metadata": {
  "kernelspec": {
   "display_name": "Python 3 (ipykernel)",
   "language": "python",
   "name": "python3"
  },
  "language_info": {
   "codemirror_mode": {
    "name": "ipython",
    "version": 3
   },
   "file_extension": ".py",
   "mimetype": "text/x-python",
   "name": "python",
   "nbconvert_exporter": "python",
   "pygments_lexer": "ipython3",
   "version": "3.12.7"
  }
 },
 "nbformat": 4,
 "nbformat_minor": 5
}
