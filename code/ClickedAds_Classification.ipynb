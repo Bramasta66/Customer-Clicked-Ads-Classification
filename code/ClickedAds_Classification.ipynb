{
 "cells": [
  {
   "cell_type": "code",
   "execution_count": 1,
   "id": "a858649b-fbcd-437d-a866-0fac620179f4",
   "metadata": {},
   "outputs": [],
   "source": [
    "import numpy as np\n",
    "import pandas as pd"
   ]
  },
  {
   "cell_type": "code",
   "execution_count": 2,
   "id": "65056057-39f0-465d-b831-6683271589f2",
   "metadata": {},
   "outputs": [],
   "source": [
    "df = pd.read_csv('preprocessed_untargeted.csv')"
   ]
  },
  {
   "cell_type": "code",
   "execution_count": 3,
   "id": "1582290c-cd0b-476c-b43a-f0727dadefa4",
   "metadata": {},
   "outputs": [],
   "source": [
    "# Display all columns\n",
    "pd.set_option('display.max_columns', None)"
   ]
  },
  {
   "cell_type": "code",
   "execution_count": 4,
   "id": "90ec71ff-ee01-4910-8399-5561ad4454cb",
   "metadata": {},
   "outputs": [],
   "source": [
    "# Splitting Features (X) and Target (y)\n",
    "X = df.drop('Clicked on Ad', axis=1)\n",
    "y = df['Clicked on Ad']"
   ]
  },
  {
   "cell_type": "code",
   "execution_count": 5,
   "id": "2ffb8668-d667-4f6b-8693-43dc8184bbd1",
   "metadata": {},
   "outputs": [],
   "source": [
    "from sklearn.model_selection import train_test_split\n",
    "\n",
    "# Splitting data into training and testing sets\n",
    "X_train, X_test, y_train, y_test = train_test_split(X, y, test_size=0.3, random_state=42)"
   ]
  },
  {
   "cell_type": "markdown",
   "id": "9eeec457-05b6-4a2b-b0c6-c1a897a8ce82",
   "metadata": {},
   "source": [
    "# Experimenting w/out Normalization"
   ]
  },
  {
   "cell_type": "code",
   "execution_count": 6,
   "id": "f17f4c11-57bb-4b50-9546-32eb3dd6765f",
   "metadata": {},
   "outputs": [
    {
     "name": "stdout",
     "output_type": "stream",
     "text": [
      "Random Forest:\n",
      "               precision    recall  f1-score   support\n",
      "\n",
      "           0       0.94      0.94      0.94       146\n",
      "           1       0.94      0.95      0.94       154\n",
      "\n",
      "    accuracy                           0.94       300\n",
      "   macro avg       0.94      0.94      0.94       300\n",
      "weighted avg       0.94      0.94      0.94       300\n",
      "\n",
      "Logistic Regression:\n",
      "               precision    recall  f1-score   support\n",
      "\n",
      "           0       0.90      0.90      0.90       146\n",
      "           1       0.91      0.90      0.91       154\n",
      "\n",
      "    accuracy                           0.90       300\n",
      "   macro avg       0.90      0.90      0.90       300\n",
      "weighted avg       0.90      0.90      0.90       300\n",
      "\n",
      "SVM:\n",
      "               precision    recall  f1-score   support\n",
      "\n",
      "           0       0.64      0.84      0.72       146\n",
      "           1       0.78      0.55      0.64       154\n",
      "\n",
      "    accuracy                           0.69       300\n",
      "   macro avg       0.71      0.69      0.68       300\n",
      "weighted avg       0.71      0.69      0.68       300\n",
      "\n"
     ]
    }
   ],
   "source": [
    "from sklearn.ensemble import RandomForestClassifier\n",
    "from sklearn.linear_model import LogisticRegression\n",
    "from sklearn.svm import SVC\n",
    "from sklearn.metrics import classification_report, confusion_matrix\n",
    "\n",
    "# Machine Learning Models\n",
    "rf = RandomForestClassifier(random_state=42)\n",
    "lr = LogisticRegression(random_state=42, max_iter=1000)\n",
    "svm = SVC(random_state=42)\n",
    "\n",
    "# Training Models\n",
    "rf.fit(X_train, y_train)\n",
    "lr.fit(X_train, y_train)\n",
    "svm.fit(X_train, y_train)\n",
    "\n",
    "# Predictions\n",
    "rf_pred = rf.predict(X_test)\n",
    "lr_pred = lr.predict(X_test)\n",
    "svm_pred = svm.predict(X_test)\n",
    "\n",
    "# Model Evaluation\n",
    "print(\"Random Forest:\\n\", classification_report(y_test, rf_pred))\n",
    "print(\"Logistic Regression:\\n\", classification_report(y_test, lr_pred))\n",
    "print(\"SVM:\\n\", classification_report(y_test, svm_pred))"
   ]
  },
  {
   "cell_type": "markdown",
   "id": "7887dc58-ce14-43af-b7fb-e5901851ba3a",
   "metadata": {},
   "source": [
    "# Experimanting w/ Data Normalization"
   ]
  },
  {
   "cell_type": "code",
   "execution_count": 7,
   "id": "d10b6c89-7c2e-470d-bb0a-55a84e16d63a",
   "metadata": {},
   "outputs": [
    {
     "name": "stdout",
     "output_type": "stream",
     "text": [
      "Random Forest (Scaled):\n",
      "               precision    recall  f1-score   support\n",
      "\n",
      "           0       0.94      0.94      0.94       146\n",
      "           1       0.94      0.95      0.94       154\n",
      "\n",
      "    accuracy                           0.94       300\n",
      "   macro avg       0.94      0.94      0.94       300\n",
      "weighted avg       0.94      0.94      0.94       300\n",
      "\n",
      "Logistic Regression (Scaled):\n",
      "               precision    recall  f1-score   support\n",
      "\n",
      "           0       0.95      0.97      0.96       146\n",
      "           1       0.97      0.95      0.96       154\n",
      "\n",
      "    accuracy                           0.96       300\n",
      "   macro avg       0.96      0.96      0.96       300\n",
      "weighted avg       0.96      0.96      0.96       300\n",
      "\n",
      "SVM (Scaled):\n",
      "               precision    recall  f1-score   support\n",
      "\n",
      "           0       0.92      0.99      0.95       146\n",
      "           1       0.99      0.92      0.95       154\n",
      "\n",
      "    accuracy                           0.95       300\n",
      "   macro avg       0.95      0.95      0.95       300\n",
      "weighted avg       0.95      0.95      0.95       300\n",
      "\n"
     ]
    }
   ],
   "source": [
    "from sklearn.preprocessing import StandardScaler\n",
    "\n",
    "# Data Normalization\n",
    "scaler = StandardScaler()\n",
    "X_train_scaled = scaler.fit_transform(X_train)\n",
    "X_test_scaled = scaler.transform(X_test)\n",
    "\n",
    "# Training Models with Normalized Data\n",
    "rf_scaled = RandomForestClassifier(random_state=42)\n",
    "lr_scaled = LogisticRegression(random_state=42, max_iter=1000)\n",
    "svm_scaled = SVC(random_state=42)\n",
    "\n",
    "rf_scaled.fit(X_train_scaled, y_train)\n",
    "lr_scaled.fit(X_train_scaled, y_train)\n",
    "svm_scaled.fit(X_train_scaled, y_train)\n",
    "\n",
    "# Predictions with Normalized Data\n",
    "rf_scaled_pred = rf_scaled.predict(X_test_scaled)\n",
    "lr_scaled_pred = lr_scaled.predict(X_test_scaled)\n",
    "svm_scaled_pred = svm_scaled.predict(X_test_scaled)\n",
    "\n",
    "# Model Evaluation with Normalized Data\n",
    "print(\"Random Forest (Scaled):\\n\", classification_report(y_test, rf_scaled_pred))\n",
    "print(\"Logistic Regression (Scaled):\\n\", classification_report(y_test, lr_scaled_pred))\n",
    "print(\"SVM (Scaled):\\n\", classification_report(y_test, svm_scaled_pred))"
   ]
  },
  {
   "cell_type": "markdown",
   "id": "552ab6a3-6c0c-4e44-8738-20338377d71c",
   "metadata": {},
   "source": [
    "# Model Evaluation and Feature Importance"
   ]
  },
  {
   "cell_type": "code",
   "execution_count": 13,
   "id": "94f695a4-1bec-4b3b-8376-af17dc9b1bb5",
   "metadata": {},
   "outputs": [
    {
     "data": {
      "image/png": "[encoded data removed]",
      "text/plain": [
       "<Figure size 2100x500 with 6 Axes>"
      ]
     },
     "metadata": {},
     "output_type": "display_data"
    },
    {
     "name": "stdout",
     "output_type": "stream",
     "text": [
      "\n",
      "Feature Importance (Random Forest):\n",
      "\n",
      "                      Feature  Importance\n",
      "4        Daily Internet Usage    0.340821\n",
      "1    Daily Time Spent on Site    0.254569\n",
      "2                         Age    0.114100\n",
      "3                 Area Income    0.109575\n",
      "0                  Unnamed: 0    0.028111\n",
      "..                        ...         ...\n",
      "26             city_Pontianak    0.000574\n",
      "34           city_Tasikmalaya    0.000545\n",
      "31             city_Surakarta    0.000344\n",
      "40  province_Kalimantan Barat    0.000237\n",
      "59                       Year    0.000000\n",
      "\n",
      "[63 rows x 2 columns]\n",
      "\n",
      "Feature Importance (Random Forest Scaled):\n",
      "\n",
      "                      Feature  Importance\n",
      "4        Daily Internet Usage    0.340821\n",
      "1    Daily Time Spent on Site    0.254569\n",
      "2                         Age    0.114100\n",
      "3                 Area Income    0.109575\n",
      "0                  Unnamed: 0    0.028111\n",
      "..                        ...         ...\n",
      "26             city_Pontianak    0.000574\n",
      "34           city_Tasikmalaya    0.000545\n",
      "31             city_Surakarta    0.000344\n",
      "40  province_Kalimantan Barat    0.000237\n",
      "59                       Year    0.000000\n",
      "\n",
      "[63 rows x 2 columns]\n",
      "\n",
      "Feature Importance (Logistic Regression):\n",
      "\n",
      "                     Feature  Coefficient\n",
      "2                        Age     0.011231\n",
      "59                      Year     0.010662\n",
      "5                       Male     0.000058\n",
      "57         category_Otomotif     0.000053\n",
      "56            category_House     0.000042\n",
      "..                       ...          ...\n",
      "0                 Unnamed: 0    -0.000208\n",
      "61                      Week    -0.000433\n",
      "62                       Day    -0.000501\n",
      "1   Daily Time Spent on Site    -0.027770\n",
      "4       Daily Internet Usage    -0.081796\n",
      "\n",
      "[63 rows x 2 columns]\n",
      "\n",
      "Feature Importance (Logistic Regression Scaled):\n",
      "\n",
      "                     Feature  Coefficient\n",
      "2                        Age     1.333317\n",
      "60                     Month     0.329310\n",
      "17      city_Jakarta Selatan     0.279987\n",
      "48  province_Sumatra Selatan     0.196859\n",
      "25            city_Palembang     0.196859\n",
      "..                       ...          ...\n",
      "58           category_Travel    -0.492797\n",
      "54        category_Furniture    -0.716152\n",
      "3                Area Income    -1.584624\n",
      "1   Daily Time Spent on Site    -2.588491\n",
      "4       Daily Internet Usage    -2.982785\n",
      "\n",
      "[63 rows x 2 columns]\n"
     ]
    }
   ],
   "source": [
    "import matplotlib.pyplot as plt\n",
    "import seaborn as sns\n",
    "\n",
    "# Confusion Matrices\n",
    "rf_cm = confusion_matrix(y_test, rf_pred)\n",
    "lr_cm = confusion_matrix(y_test, lr_pred)\n",
    "svm_cm = confusion_matrix(y_test, svm_pred)\n",
    "\n",
    "# Visualizing Confusion Matrices\n",
    "plt.figure(figsize=(21, 5))\n",
    "\n",
    "plt.subplot(1, 3, 1)\n",
    "sns.heatmap(rf_cm, annot=True, fmt='d', cmap='Blues')\n",
    "plt.title('Random Forest Confusion Matrix')\n",
    "\n",
    "plt.subplot(1, 3, 2)\n",
    "sns.heatmap(lr_cm, annot=True, fmt='d', cmap='Greens')\n",
    "plt.title('Logistic Regression Confusion Matrix')\n",
    "\n",
    "plt.subplot(1, 3, 3)\n",
    "sns.heatmap(svm_cm, annot=True, fmt='d', cmap='Reds')\n",
    "plt.title('SVM Confusion Matrix')\n",
    "\n",
    "plt.show()\n",
    "\n",
    "# Feature Importance\n",
    "print(\"\\nFeature Importance (Random Forest):\\n\")\n",
    "feature_importance_rf = pd.DataFrame({'Feature': X_train.columns, 'Importance': rf.feature_importances_})\n",
    "print(feature_importance_rf.sort_values(by='Importance', ascending=False))\n",
    "\n",
    "print(\"\\nFeature Importance (Random Forest Scaled):\\n\")\n",
    "feature_importance_rf_scaled = pd.DataFrame({'Feature': X_train.columns, 'Importance': rf_scaled.feature_importances_})\n",
    "print(feature_importance_rf_scaled.sort_values(by='Importance', ascending=False))\n",
    "\n",
    "print(\"\\nFeature Importance (Logistic Regression):\\n\")\n",
    "feature_importance_lr = pd.DataFrame({'Feature': X_train.columns, 'Coefficient': lr.coef_[0]})\n",
    "print(feature_importance_lr.sort_values(by='Coefficient', ascending=False))\n",
    "\n",
    "print(\"\\nFeature Importance (Logistic Regression Scaled):\\n\")\n",
    "feature_importance_lr_scaled = pd.DataFrame({'Feature': X_train.columns, 'Coefficient': lr_scaled.coef_[0]})\n",
    "print(feature_importance_lr_scaled.sort_values(by='Coefficient', ascending=False))"
   ]
  },
  {
   "cell_type": "code",
   "execution_count": null,
   "id": "d3842a0f-208f-4701-91f6-dcdf71f3c4ee",
   "metadata": {},
   "outputs": [],
   "source": []
  }
 ],
 "metadata": {
  "kernelspec": {
   "display_name": "Python 3 (ipykernel)",
   "language": "python",
   "name": "python3"
  },
  "language_info": {
   "codemirror_mode": {
    "name": "ipython",
    "version": 3
   },
   "file_extension": ".py",
   "mimetype": "text/x-python",
   "name": "python",
   "nbconvert_exporter": "python",
   "pygments_lexer": "ipython3",
   "version": "3.12.7"
  }
 },
 "nbformat": 4,
 "nbformat_minor": 5
}
